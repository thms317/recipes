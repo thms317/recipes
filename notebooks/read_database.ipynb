{
 "cells": [
  {
   "cell_type": "markdown",
   "metadata": {},
   "source": [
    "# Read Recipes Database"
   ]
  },
  {
   "cell_type": "code",
   "execution_count": 22,
   "metadata": {},
   "outputs": [],
   "source": [
    "import sqlite3"
   ]
  },
  {
   "cell_type": "code",
   "execution_count": 23,
   "metadata": {},
   "outputs": [],
   "source": [
    "# Connect to the database\n",
    "conn = sqlite3.connect(\"docs/database/recipes.db\")\n",
    "cursor = conn.cursor()"
   ]
  },
  {
   "cell_type": "code",
   "execution_count": 24,
   "metadata": {},
   "outputs": [],
   "source": [
    "# Query all recipes\n",
    "cursor.execute(\"SELECT * FROM recipes\")\n",
    "recipes = cursor.fetchall()"
   ]
  },
  {
   "cell_type": "code",
   "execution_count": 25,
   "metadata": {},
   "outputs": [
    {
     "data": {
      "text/plain": [
       "[(1,\n",
       "  'Banana-Peanut Butter Granola with Whole Nuts',\n",
       "  'Recipe developed for optimal crunch and flavor balance',\n",
       "  'docs/recipes/granola_html.md',\n",
       "  'en',\n",
       "  '',\n",
       "  '',\n",
       "  '',\n",
       "  '',\n",
       "  '2025-04-07 10:27:20'),\n",
       " (2,\n",
       "  'Nederlandse Vegetarische Chili',\n",
       "  'Een heerlijk en voedzaam vegetarisch gerecht voor elke gelegenheid',\n",
       "  'docs/recipes/dutch_veggie_chili.md',\n",
       "  'nl',\n",
       "  '',\n",
       "  '',\n",
       "  '',\n",
       "  '',\n",
       "  '2025-04-07 10:27:20'),\n",
       " (3,\n",
       "  'Port-Caramelized Onions',\n",
       "  '',\n",
       "  'docs/recipes/port_caramelized_onions.md',\n",
       "  'en',\n",
       "  '',\n",
       "  '',\n",
       "  '',\n",
       "  '',\n",
       "  '2025-04-07 10:27:20'),\n",
       " (4,\n",
       "  'Banana-Peanut Butter Granola with Whole Nuts',\n",
       "  'Recipe developed for optimal crunch and flavor balance',\n",
       "  'docs/recipes/granola.md',\n",
       "  'en',\n",
       "  '10 minutes',\n",
       "  '25-30 minutes',\n",
       "  '1 hour 30 minutes',\n",
       "  'About 4 cups',\n",
       "  '2025-04-07 10:27:20')]"
      ]
     },
     "execution_count": 25,
     "metadata": {},
     "output_type": "execute_result"
    }
   ],
   "source": [
    "recipes"
   ]
  },
  {
   "cell_type": "code",
   "execution_count": 13,
   "metadata": {},
   "outputs": [
    {
     "data": {
      "text/plain": [
       "[(1,\n",
       "  'Banana-Peanut Butter Granola with Whole Nuts',\n",
       "  'Recipe developed for optimal crunch and flavor balance',\n",
       "  'docs/recipes/granola_html.md',\n",
       "  'en',\n",
       "  '',\n",
       "  '',\n",
       "  '',\n",
       "  '',\n",
       "  '2025-04-07 10:27:20'),\n",
       " (2,\n",
       "  'Nederlandse Vegetarische Chili',\n",
       "  'Een heerlijk en voedzaam vegetarisch gerecht voor elke gelegenheid',\n",
       "  'docs/recipes/dutch_veggie_chili.md',\n",
       "  'nl',\n",
       "  '',\n",
       "  '',\n",
       "  '',\n",
       "  '',\n",
       "  '2025-04-07 10:27:20'),\n",
       " (3,\n",
       "  'Port-Caramelized Onions',\n",
       "  '',\n",
       "  'docs/recipes/port_caramelized_onions.md',\n",
       "  'en',\n",
       "  '',\n",
       "  '',\n",
       "  '',\n",
       "  '',\n",
       "  '2025-04-07 10:27:20'),\n",
       " (4,\n",
       "  'Banana-Peanut Butter Granola with Whole Nuts',\n",
       "  'Recipe developed for optimal crunch and flavor balance',\n",
       "  'docs/recipes/granola.md',\n",
       "  'en',\n",
       "  '10 minutes',\n",
       "  '25-30 minutes',\n",
       "  '1 hour 30 minutes',\n",
       "  'About 4 cups',\n",
       "  '2025-04-07 10:27:20')]"
      ]
     },
     "metadata": {},
     "output_type": "display_data"
    }
   ],
   "source": [
    "# Simple display of query results\n",
    "from IPython.display import display  # noqa: A004\n",
    "\n",
    "# Display the raw data from your SQL query\n",
    "display(recipes)"
   ]
  },
  {
   "cell_type": "code",
   "execution_count": 20,
   "metadata": {},
   "outputs": [
    {
     "data": {
      "text/html": [
       "<div>\n",
       "<style scoped>\n",
       "    .dataframe tbody tr th:only-of-type {\n",
       "        vertical-align: middle;\n",
       "    }\n",
       "\n",
       "    .dataframe tbody tr th {\n",
       "        vertical-align: top;\n",
       "    }\n",
       "\n",
       "    .dataframe thead th {\n",
       "        text-align: right;\n",
       "    }\n",
       "</style>\n",
       "<table border=\"1\" class=\"dataframe\">\n",
       "  <thead>\n",
       "    <tr style=\"text-align: right;\">\n",
       "      <th></th>\n",
       "      <th>0</th>\n",
       "      <th>1</th>\n",
       "      <th>2</th>\n",
       "      <th>3</th>\n",
       "    </tr>\n",
       "  </thead>\n",
       "  <tbody>\n",
       "    <tr>\n",
       "      <th>0</th>\n",
       "      <td>Banana-Peanut Butter Granola with Whole Nuts</td>\n",
       "      <td>en</td>\n",
       "      <td></td>\n",
       "      <td></td>\n",
       "    </tr>\n",
       "    <tr>\n",
       "      <th>1</th>\n",
       "      <td>Nederlandse Vegetarische Chili</td>\n",
       "      <td>nl</td>\n",
       "      <td></td>\n",
       "      <td></td>\n",
       "    </tr>\n",
       "    <tr>\n",
       "      <th>2</th>\n",
       "      <td>Port-Caramelized Onions</td>\n",
       "      <td>en</td>\n",
       "      <td></td>\n",
       "      <td></td>\n",
       "    </tr>\n",
       "    <tr>\n",
       "      <th>3</th>\n",
       "      <td>Banana-Peanut Butter Granola with Whole Nuts</td>\n",
       "      <td>en</td>\n",
       "      <td>10 minutes</td>\n",
       "      <td>25-30 minutes</td>\n",
       "    </tr>\n",
       "  </tbody>\n",
       "</table>\n",
       "</div>"
      ],
      "text/plain": [
       "                                              0   1           2              3\n",
       "0  Banana-Peanut Butter Granola with Whole Nuts  en                           \n",
       "1                Nederlandse Vegetarische Chili  nl                           \n",
       "2                       Port-Caramelized Onions  en                           \n",
       "3  Banana-Peanut Butter Granola with Whole Nuts  en  10 minutes  25-30 minutes"
      ]
     },
     "execution_count": 20,
     "metadata": {},
     "output_type": "execute_result"
    }
   ],
   "source": [
    "# Convert to DataFrame for better formatting\n",
    "import pandas as pd\n",
    "\n",
    "# Assuming column names like these - replace with your actual columns\n",
    "# column_names = [\"id\", \"name\", \"cuisine\", \"prep_time\", \"cook_time\", \"ingredients\", \"instructions\"]\n",
    "# recipes_df = pd.DataFrame(recipes, columns=column_names)\n",
    "recipes_df = pd.DataFrame(recipes)\n",
    "\n",
    "# Display the DataFrame\n",
    "recipes_df"
   ]
  },
  {
   "cell_type": "code",
   "execution_count": 26,
   "metadata": {},
   "outputs": [
    {
     "name": "stdout",
     "output_type": "stream",
     "text": [
      "+----+----------------------------------------------+--------------------------------------------------------------------+-----------------------------------------+----------+------------+---------------+-------------------+--------------+---------------------+\n",
      "| id |                    title                     |                            description                             |                file_path                | language | prep_time  |   cook_time   |    total_time     |   servings   |     created_at      |\n",
      "+----+----------------------------------------------+--------------------------------------------------------------------+-----------------------------------------+----------+------------+---------------+-------------------+--------------+---------------------+\n",
      "| 1  | Banana-Peanut Butter Granola with Whole Nuts |       Recipe developed for optimal crunch and flavor balance       |      docs/recipes/granola_html.md       |    en    |            |               |                   |              | 2025-04-07 10:27:20 |\n",
      "| 2  |        Nederlandse Vegetarische Chili        | Een heerlijk en voedzaam vegetarisch gerecht voor elke gelegenheid |   docs/recipes/dutch_veggie_chili.md    |    nl    |            |               |                   |              | 2025-04-07 10:27:20 |\n",
      "| 3  |           Port-Caramelized Onions            |                                                                    | docs/recipes/port_caramelized_onions.md |    en    |            |               |                   |              | 2025-04-07 10:27:20 |\n",
      "| 4  | Banana-Peanut Butter Granola with Whole Nuts |       Recipe developed for optimal crunch and flavor balance       |         docs/recipes/granola.md         |    en    | 10 minutes | 25-30 minutes | 1 hour 30 minutes | About 4 cups | 2025-04-07 10:27:20 |\n",
      "+----+----------------------------------------------+--------------------------------------------------------------------+-----------------------------------------+----------+------------+---------------+-------------------+--------------+---------------------+\n"
     ]
    }
   ],
   "source": [
    "from tabulate import tabulate\n",
    "\n",
    "# Get column names from cursor description\n",
    "column_names = [desc[0] for desc in cursor.description]\n",
    "\n",
    "# Print as a nice formatted table\n",
    "print(tabulate(recipes, headers=column_names, tablefmt=\"pretty\"))"
   ]
  },
  {
   "cell_type": "code",
   "execution_count": 14,
   "metadata": {},
   "outputs": [
    {
     "name": "stdout",
     "output_type": "stream",
     "text": [
      "RECIPES IN DATABASE:\n",
      "--------------------------------------------------------------------------------\n",
      "Recipe Record:\n",
      "  id: 1\n",
      "  title: Banana-Peanut Butter Granola with Whole Nuts\n",
      "  description: Recipe developed for optimal crunch and flavor balance\n",
      "  file_path: docs/recipes/granola_html.md\n",
      "  language: en\n",
      "  prep_time: \n",
      "  cook_time: \n",
      "  total_time: \n",
      "  servings: \n",
      "  created_at: 2025-04-07 10:27:20\n",
      "--------------------------------------------------------------------------------\n",
      "Recipe Record:\n",
      "  id: 2\n",
      "  title: Nederlandse Vegetarische Chili\n",
      "  description: Een heerlijk en voedzaam vegetarisch gerecht voor elke gelegenheid\n",
      "  file_path: docs/recipes/dutch_veggie_chili.md\n",
      "  language: nl\n",
      "  prep_time: \n",
      "  cook_time: \n",
      "  total_time: \n",
      "  servings: \n",
      "  created_at: 2025-04-07 10:27:20\n",
      "--------------------------------------------------------------------------------\n",
      "Recipe Record:\n",
      "  id: 3\n",
      "  title: Port-Caramelized Onions\n",
      "  description: \n",
      "  file_path: docs/recipes/port_caramelized_onions.md\n",
      "  language: en\n",
      "  prep_time: \n",
      "  cook_time: \n",
      "  total_time: \n",
      "  servings: \n",
      "  created_at: 2025-04-07 10:27:20\n",
      "--------------------------------------------------------------------------------\n",
      "Recipe Record:\n",
      "  id: 4\n",
      "  title: Banana-Peanut Butter Granola with Whole Nuts\n",
      "  description: Recipe developed for optimal crunch and flavor balance\n",
      "  file_path: docs/recipes/granola.md\n",
      "  language: en\n",
      "  prep_time: 10 minutes\n",
      "  cook_time: 25-30 minutes\n",
      "  total_time: 1 hour 30 minutes\n",
      "  servings: About 4 cups\n",
      "  created_at: 2025-04-07 10:27:20\n",
      "--------------------------------------------------------------------------------\n"
     ]
    }
   ],
   "source": [
    "# Get column names from cursor description\n",
    "columns = [description[0] for description in cursor.description]\n",
    "\n",
    "# Create a more readable format\n",
    "print(\"RECIPES IN DATABASE:\")\n",
    "print(\"-\" * 80)\n",
    "for recipe in recipes:\n",
    "    print(\"Recipe Record:\")\n",
    "    for i, col in enumerate(columns):\n",
    "        print(f\"  {col}: {recipe[i]}\")\n",
    "    print(\"-\" * 80)\n"
   ]
  },
  {
   "cell_type": "code",
   "execution_count": 15,
   "metadata": {},
   "outputs": [
    {
     "name": "stdout",
     "output_type": "stream",
     "text": [
      "Recipe: Banana-Peanut Butter Granola with Whole Nuts (en)\n",
      "Prep time: , Cook time: \n",
      "---\n",
      "Recipe: Nederlandse Vegetarische Chili (nl)\n",
      "Prep time: , Cook time: \n",
      "---\n",
      "Recipe: Port-Caramelized Onions (en)\n",
      "Prep time: , Cook time: \n",
      "---\n",
      "Recipe: Banana-Peanut Butter Granola with Whole Nuts (en)\n",
      "Prep time: 10 minutes, Cook time: 25-30 minutes\n",
      "---\n"
     ]
    }
   ],
   "source": [
    "# Query all recipes\n",
    "cursor.execute(\"SELECT title, language, prep_time, cook_time FROM recipes\")\n",
    "recipes = cursor.fetchall()\n",
    "\n",
    "# Print recipes\n",
    "for recipe in recipes:\n",
    "    print(f\"Recipe: {recipe[0]} ({recipe[1]})\")\n",
    "    print(f\"Prep time: {recipe[2]}, Cook time: {recipe[3]}\")\n",
    "    print(\"---\")\n"
   ]
  },
  {
   "cell_type": "code",
   "execution_count": 16,
   "metadata": {},
   "outputs": [],
   "source": [
    "# Close the connection\n",
    "conn.close()"
   ]
  }
 ],
 "metadata": {
  "kernelspec": {
   "display_name": ".venv",
   "language": "python",
   "name": "python3"
  },
  "language_info": {
   "codemirror_mode": {
    "name": "ipython",
    "version": 3
   },
   "file_extension": ".py",
   "mimetype": "text/x-python",
   "name": "python",
   "nbconvert_exporter": "python",
   "pygments_lexer": "ipython3",
   "version": "3.12.6"
  }
 },
 "nbformat": 4,
 "nbformat_minor": 2
}
