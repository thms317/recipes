{
 "cells": [
  {
   "cell_type": "markdown",
   "metadata": {},
   "source": [
    "# Parse PDF\n",
    "We will be using docling to conver the PDF into markdown.\n"
   ]
  },
  {
   "cell_type": "code",
   "execution_count": 1,
   "metadata": {},
   "outputs": [],
   "source": [
    "from pathlib import Path\n",
    "\n",
    "from docling.document_converter import DocumentConverter"
   ]
  },
  {
   "cell_type": "code",
   "execution_count": 2,
   "metadata": {},
   "outputs": [],
   "source": [
    "converter = DocumentConverter()"
   ]
  },
  {
   "cell_type": "code",
   "execution_count": 3,
   "metadata": {},
   "outputs": [
    {
     "name": "stdout",
     "output_type": "stream",
     "text": [
      "Recipes:\n",
      "Zoete aardappelsoep met kokos en limoen.pdf\n"
     ]
    }
   ],
   "source": [
    "recipes_dir = \"scratch\"\n",
    "recipes = Path(recipes_dir).glob(\"*.pdf\")\n",
    "\n",
    "print(\"Recipes:\")\n",
    "for recipe in recipes:\n",
    "    print(recipe.name)"
   ]
  },
  {
   "cell_type": "code",
   "execution_count": 5,
   "metadata": {},
   "outputs": [],
   "source": [
    "# recipe to markdown file\n",
    "for recipe in recipes:\n",
    "    result = converter.convert(str(recipe))\n",
    "    recipe_md = result.document.export_to_markdown()\n",
    "    print(recipe_md)\n",
    "    # with Path.open(recipe.with_suffix(\".md\"), \"w\") as f:\n",
    "    #     f.write(recipe_md)"
   ]
  },
  {
   "cell_type": "code",
   "execution_count": null,
   "metadata": {},
   "outputs": [],
   "source": []
  }
 ],
 "metadata": {
  "kernelspec": {
   "display_name": ".venv",
   "language": "python",
   "name": "python3"
  },
  "language_info": {
   "codemirror_mode": {
    "name": "ipython",
    "version": 3
   },
   "file_extension": ".py",
   "mimetype": "text/x-python",
   "name": "python",
   "nbconvert_exporter": "python",
   "pygments_lexer": "ipython3",
   "version": "3.12.6"
  }
 },
 "nbformat": 4,
 "nbformat_minor": 2
}
